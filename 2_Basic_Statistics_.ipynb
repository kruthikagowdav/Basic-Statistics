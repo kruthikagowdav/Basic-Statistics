{
  "cells": [
    {
      "cell_type": "markdown",
      "id": "a893150a",
      "metadata": {
        "id": "a893150a"
      },
      "source": [
        "# Set-1"
      ]
    },
    {
      "cell_type": "markdown",
      "id": "fe0ff279",
      "metadata": {
        "id": "fe0ff279"
      },
      "source": [
        "1.Look at the data given below. Plot the data, find the outliers and find out  μ,σ,σ^2"
      ]
    },
    {
      "cell_type": "code",
      "execution_count": null,
      "id": "604eaa75",
      "metadata": {
        "id": "604eaa75"
      },
      "outputs": [],
      "source": [
        "import pandas as pd\n",
        "import numpy as np\n",
        "import seaborn as sns\n",
        "import scipy.stats as stats\n",
        "import statsmodels.api as smf\n",
        "import warnings\n",
        "warnings.filterwarnings('ignore')"
      ]
    },
    {
      "cell_type": "code",
      "execution_count": null,
      "id": "0f3c6cdb",
      "metadata": {
        "id": "0f3c6cdb"
      },
      "outputs": [],
      "source": [
        "name_of_company=pd.Series(['Allied Signal',' Bankers Trust','General Mills','ITT Industries','J.P.Morgan & Co','Lehman Brothers','Marriott','MCI','Merrill Lynch','Microsoft','Morgan Stanley','Sun Microsystems','Travelers','US Airways','Warner-Lambert'])\n",
        "measure_x=pd.Series([24.23,25.53,25.41,24.14,29.62,28.25,25.81,24.39,40.26,32.95,91.36,25.99,39.42,26.71,35.00])"
      ]
    },
    {
      "cell_type": "code",
      "execution_count": null,
      "id": "3ccffc64",
      "metadata": {
        "scrolled": true,
        "id": "3ccffc64",
        "outputId": "7c7a7344-4bbc-479d-e695-75b0df6beedc"
      },
      "outputs": [
        {
          "name": "stdout",
          "output_type": "stream",
          "text": [
            "<class 'pandas.core.series.Series'>\n",
            "RangeIndex: 15 entries, 0 to 14\n",
            "Series name: None\n",
            "Non-Null Count  Dtype  \n",
            "--------------  -----  \n",
            "15 non-null     float64\n",
            "dtypes: float64(1)\n",
            "memory usage: 252.0 bytes\n"
          ]
        }
      ],
      "source": [
        "measure_x.info()"
      ]
    },
    {
      "cell_type": "code",
      "execution_count": null,
      "id": "3a6faddc",
      "metadata": {
        "scrolled": true,
        "id": "3a6faddc",
        "outputId": "612b84fd-9176-4a90-e086-fd53b81075f5"
      },
      "outputs": [
        {
          "data": {
            "text/plain": [
              "<Axes: >"
            ]
          },
          "execution_count": 4,
          "metadata": {},
          "output_type": "execute_result"
        },
        {
          "data": {
            "image/png": "[encoded data removed]",
            "text/plain": [
              "<Figure size 640x480 with 1 Axes>"
            ]
          },
          "metadata": {},
          "output_type": "display_data"
        }
      ],
      "source": [
        "#Finding outliers\n",
        "sns.boxplot(measure_x,orient='h')\n",
        "#From boxplot we can see Outlier is present at 90% around.So Morgan Stanley with 91.36% is the Outlier."
      ]
    },
    {
      "cell_type": "code",
      "execution_count": null,
      "id": "28509557",
      "metadata": {
        "id": "28509557",
        "outputId": "50212b7f-c70c-4ce8-e679-0fa395e3ac35"
      },
      "outputs": [
        {
          "name": "stdout",
          "output_type": "stream",
          "text": [
            "Mean(𝜇)= 33.27133333333333\n",
            "Standard Deviation(𝜎)= 16.945400921222028\n",
            "Variance(𝜎2)= 287.1466123809524\n"
          ]
        }
      ],
      "source": [
        "#Finding Mean(𝜇),Standard Deviation(𝜎),Variance(𝜎2)\n",
        "#Mean(𝜇)\n",
        "print(\"Mean(𝜇)=\",measure_x.mean())\n",
        "print(\"Standard Deviation(𝜎)=\",measure_x.std())\n",
        "print(\"Variance(𝜎2)=\",measure_x.var())"
      ]
    },
    {
      "cell_type": "markdown",
      "id": "8408dd62",
      "metadata": {
        "id": "8408dd62"
      },
      "source": [
        "# Set-2"
      ]
    },
    {
      "cell_type": "markdown",
      "id": "8a947626",
      "metadata": {
        "id": "8a947626"
      },
      "source": [
        "1.The time required for servicing transmissions is normally distributed with (µ) = 45 minutes and (σ) = 8 minutes.\n",
        "The service manager plans to have work begin on the transmission of a customer’s car 10 minutes after the car\n",
        "is dropped off and the customer is told that the car will be ready within 1 hour from drop-off.\n",
        "What is the probability that the service manager cannot meet his commitment?"
      ]
    },
    {
      "cell_type": "code",
      "execution_count": null,
      "id": "77dd098c",
      "metadata": {
        "id": "77dd098c"
      },
      "outputs": [],
      "source": [
        "from scipy import stats\n",
        "from scipy.stats import norm"
      ]
    },
    {
      "cell_type": "code",
      "execution_count": null,
      "id": "1f843f5e",
      "metadata": {
        "id": "1f843f5e",
        "outputId": "68759a71-6cc0-4748-f355-1407681cce57"
      },
      "outputs": [
        {
          "data": {
            "text/plain": [
              "0.625"
            ]
          },
          "execution_count": 7,
          "metadata": {},
          "output_type": "execute_result"
        }
      ],
      "source": [
        "# Finding Z-Score at X=50; Z = (X - µ)/σ\n",
        "Z=(50-45)/8\n",
        "Z"
      ]
    },
    {
      "cell_type": "code",
      "execution_count": null,
      "id": "14293430",
      "metadata": {
        "id": "14293430",
        "outputId": "8f137411-b290-4dbb-ceab-c94644e6a236"
      },
      "outputs": [
        {
          "data": {
            "text/plain": [
              "26.6"
            ]
          },
          "execution_count": 8,
          "metadata": {},
          "output_type": "execute_result"
        }
      ],
      "source": [
        "# Finding probability P(X>50) = 1-stats.norm.cdf(z_score)\n",
        "round(1-stats.norm.cdf(0.625),3)*100"
      ]
    },
    {
      "cell_type": "markdown",
      "id": "c14c592b",
      "metadata": {
        "id": "c14c592b"
      },
      "source": [
        "2.The current age (in years) of 400 clerical employees at an insurance claims processing center is normally distributed with mean µ = 38 and Standard deviation σ =6. For each statement below, please specify True/False. If false, briefly explain why. A. More employees at the processing center are older than 44 than between 38 and 44. B.\n",
        "A training program for employees under the age of 30 at the center would be expected to attract about 36 employees"
      ]
    },
    {
      "cell_type": "code",
      "execution_count": null,
      "id": "eea1a648",
      "metadata": {
        "id": "eea1a648",
        "outputId": "a3b1ecbf-c2ed-454e-bbe8-2afb919db63b"
      },
      "outputs": [
        {
          "data": {
            "text/plain": [
              "15.9"
            ]
          },
          "execution_count": 9,
          "metadata": {},
          "output_type": "execute_result"
        }
      ],
      "source": [
        "# A. More employees at the processing center are older than 44 than between 38 and 44.\n",
        "\n",
        "# P(X>44); Employees older than 44 yrs of age\n",
        "round(1-stats.norm.cdf(44,38,6),3)*100"
      ]
    },
    {
      "cell_type": "code",
      "execution_count": null,
      "id": "2514e31b",
      "metadata": {
        "id": "2514e31b",
        "outputId": "f846b1da-90ed-43b6-ca88-3e66be0b0d42"
      },
      "outputs": [
        {
          "data": {
            "text/plain": [
              "34.1"
            ]
          },
          "execution_count": 10,
          "metadata": {},
          "output_type": "execute_result"
        }
      ],
      "source": [
        "# P(38<X<44); Employees between 38 to 44 yrs of age\n",
        "round((stats.norm.cdf(44,38,6)-stats.norm.cdf(38,38,6)),3)*100"
      ]
    },
    {
      "cell_type": "code",
      "execution_count": null,
      "id": "6643d352",
      "metadata": {
        "id": "6643d352",
        "outputId": "8754cbee-c275-4b9f-d575-82f6c89195e6"
      },
      "outputs": [
        {
          "data": {
            "text/plain": [
              "9.1"
            ]
          },
          "execution_count": 11,
          "metadata": {},
          "output_type": "execute_result"
        }
      ],
      "source": [
        "# B. A training program for employees under the age of 30 at the center would be expected to attract about 36 employees.\n",
        "\n",
        "# P(X<30);Probability of employees under 30 yrs of age\n",
        "round(stats.norm.cdf(30,38,6),3)*100"
      ]
    },
    {
      "cell_type": "code",
      "execution_count": null,
      "id": "496cc7a7",
      "metadata": {
        "id": "496cc7a7",
        "outputId": "7e1569c4-bb34-4032-e6d4-bd6d2c91e09c"
      },
      "outputs": [
        {
          "data": {
            "text/plain": [
              "36.484487890347154"
            ]
          },
          "execution_count": 12,
          "metadata": {},
          "output_type": "execute_result"
        }
      ],
      "source": [
        "# No. of employees attending training program from 400 employees. is given as N*P(X<30)\n",
        "400*stats.norm.cdf(30,38,6)"
      ]
    },
    {
      "cell_type": "markdown",
      "id": "1f7f8f2c",
      "metadata": {
        "id": "1f7f8f2c"
      },
      "source": [
        "4.Let X ~ N(100, 202). Find two values, a and b, symmetric about the mean, such that the probability\n",
        "of the random variable taking a value between them is 0.99."
      ]
    },
    {
      "cell_type": "code",
      "execution_count": null,
      "id": "708211f2",
      "metadata": {
        "id": "708211f2",
        "outputId": "8a4a8fb7-190c-448b-9938-fda0012e7386"
      },
      "outputs": [
        {
          "name": "stdout",
          "output_type": "stream",
          "text": [
            "The two values of a and b, symmetric about the mean,\n",
            "      are such that the probability of the random variable\n",
            "      taking a value between them is 0.99: 48.5 151.5\n"
          ]
        }
      ],
      "source": [
        "# Given\n",
        "mew = 100\n",
        "std = 20\n",
        "# p(a<x<b)\n",
        "#To Find =\n",
        "\"\"\" two values, a and b, symmetric about the mean, such that the\n",
        "probability of the random variable taking a value between them is 0.99\"\"\"\n",
        "# Solution\n",
        "\"\"\" From the above details,we have to exclude .005% area from each\n",
        "left and right tails. Hence, we want to find the .005th and the\n",
        ".995th percentiles Z score values\"\"\"\n",
        "\n",
        "# Z value for .005 percentiles\n",
        "z_005_ = np.round(stats.norm.ppf(0.005),4)\n",
        "z_005_\n",
        "\n",
        "# Z value for .99 percentiles\n",
        "z_99_ = np.round(stats.norm.ppf(0.995),4)\n",
        "z_99_\n",
        "\n",
        "#z = (x_bar - mew) / std\n",
        "#x_bar = (z*std) + mew\n",
        "a = np.round((z_005_*std) + mew,1)\n",
        "b = np.round((z_99_*std) + mew,1)\n",
        "print(\"\"\"The two values of a and b, symmetric about the mean,\n",
        "      are such that the probability of the random variable\n",
        "      taking a value between them is 0.99:\"\"\",a,b)"
      ]
    },
    {
      "cell_type": "markdown",
      "id": "3c4f78c7",
      "metadata": {
        "id": "3c4f78c7"
      },
      "source": [
        "5.Consider a company that has two different divisions. The annual profits from the two divisions\n",
        "are independent and have distributions Profit1 ~ N(5, 32) and Profit2 ~ N(7, 42) respectively.\n",
        "Both the profits are in Million Dollars. Answer the following questions about the total profit of the company in Rupees.\n",
        "Assume that $1 = Rs. 45\n",
        "A.Specify a Rupee range (centered on the mean) such that it contains 95% probability for the annual profit of the company.\n",
        "B.Specify the 5th percentile of profit (in Rupees) for the company\n",
        "C.Which of the two divisions has a larger probability of making a loss in a given year?\n"
      ]
    },
    {
      "cell_type": "code",
      "execution_count": null,
      "id": "bb9af030",
      "metadata": {
        "id": "bb9af030",
        "outputId": "60b1217a-eccd-4ed2-96fd-791142b5dccd"
      },
      "outputs": [
        {
          "name": "stdout",
          "output_type": "stream",
          "text": [
            "The Mean Profit of both division: 12 Million$\n",
            "The Mean Profit of both division: 54.0 Crore Rupees\n",
            "The Standard Deviation of both division: 5.0 Million$\n",
            "The Standard Deviation of both division: 22.5 Crore Rupees\n"
          ]
        }
      ],
      "source": [
        "# Combine Mean Profit of both division for Company= mean1 + mean2\n",
        "mean1 = 5\n",
        "mean2 = 7\n",
        "Mean = (mean1+mean2) # 1 USD = 45 rupees\n",
        "print('The Mean Profit of both division:',Mean, 'Million$')\n",
        "print('The Mean Profit of both division:',(Mean*45)/10, 'Crore Rupees')\n",
        "\n",
        "# Combine standard Deviation = (Std1^2 + Std2^2)^1/2\n",
        "std1 = 3**2\n",
        "std2 = 4**2\n",
        "Std = np.sqrt(std1 + std2)\n",
        "print('The Standard Deviation of both division:', Std, 'Million$')\n",
        "print('The Standard Deviation of both division:', (Std*45)/10, 'Crore Rupees')"
      ]
    },
    {
      "cell_type": "markdown",
      "id": "149004dd",
      "metadata": {
        "id": "149004dd"
      },
      "source": [
        "A.Specify a Rupee range (centered on the mean) such that it contains 95% probability for the annual profit of the company."
      ]
    },
    {
      "cell_type": "code",
      "execution_count": null,
      "id": "d6d0fcea",
      "metadata": {
        "id": "d6d0fcea",
        "outputId": "f409433e-97bd-40ed-f59f-92c4560c95ad"
      },
      "outputs": [
        {
          "name": "stdout",
          "output_type": "stream",
          "text": [
            "Rupee Ranges from 2.2 to 21.8 Million$ in Annual profit of the Company 95% of the time\n",
            "Rupee Ranges from 9.900000000000002 to 98.1 Crore Rupeees\n"
          ]
        }
      ],
      "source": [
        "r1, r2 = np.round(stats.norm.interval(0.95, Mean, Std),2)\n",
        "print('Rupee Ranges from',r1,'to',r2,'Million$ in Annual profit of the Company 95% of the time')\n",
        "print('Rupee Ranges from',np.divide(np.multiply(r1,45),10),'to',np.divide(np.multiply(r2,45),10),'Crore Rupeees')"
      ]
    },
    {
      "cell_type": "markdown",
      "id": "d86c53a2",
      "metadata": {
        "id": "d86c53a2"
      },
      "source": [
        "B.Specify the 5th percentile of profit (in Rupees) for the company"
      ]
    },
    {
      "cell_type": "code",
      "execution_count": null,
      "id": "1f8f1043",
      "metadata": {
        "id": "1f8f1043",
        "outputId": "11aa941a-7c97-4353-cf24-8307cf90c589"
      },
      "outputs": [
        {
          "name": "stdout",
          "output_type": "stream",
          "text": [
            "The 5th percentile of Profit for the company is 3.78 Million$\n",
            "The 5th percentile of Profit for the company is 17.0 Crore Rupees\n"
          ]
        }
      ],
      "source": [
        "# Z value  = X_bar - Mew / Std pop\n",
        "# for percentile, X_percentile = (Zvalue * Std pop) + Mew\n",
        "Z_05_ = stats.norm.ppf(0.05)\n",
        "Fifth_percentile = (Z_05_ * Std) + Mean\n",
        "print('The 5th percentile of Profit for the company is',np.round(Fifth_percentile,2),'Million$')\n",
        "print('The 5th percentile of Profit for the company is',np.round((Fifth_percentile*45)/10,),'Crore Rupees')"
      ]
    },
    {
      "cell_type": "markdown",
      "id": "abe70876",
      "metadata": {
        "id": "abe70876"
      },
      "source": [
        "C.Which of the two divisions has a larger probability of making a loss in a given year?"
      ]
    },
    {
      "cell_type": "code",
      "execution_count": null,
      "id": "91d66fb4",
      "metadata": {
        "scrolled": true,
        "id": "91d66fb4",
        "outputId": "2c92c5d2-6e5c-468a-ef00-79dbc77e5693"
      },
      "outputs": [
        {
          "name": "stdout",
          "output_type": "stream",
          "text": [
            "The Probability of Division #1 making a loss is 4.78 %\n",
            "The Probability of Division #2 making a loss is 4.01 %\n",
            "The Division 1 has a larger Probability of making a loss\n"
          ]
        }
      ],
      "source": [
        "# The probability of Division #1 making a loss\n",
        "print('The Probability of Division #1 making a loss is',np.round((stats.norm.cdf(0,5,3))*100,2),'%')\n",
        "\n",
        "# The probability of Division #2 making a loss\n",
        "print('The Probability of Division #2 making a loss is',np.round((stats.norm.cdf(0,7,4))*100,2),'%')\n",
        "\n",
        "Division_1 = (stats.norm.cdf(0,5,3))*100\n",
        "Division_2 = (stats.norm.cdf(0,7,4))*100\n",
        "\n",
        "if Division_1>Division_2:\n",
        "    print('The Division 1 has a larger Probability of making a loss')\n",
        "else:\n",
        "          print('The Division 2 has a larger Porbability of making a loss')"
      ]
    },
    {
      "cell_type": "markdown",
      "id": "dd3fed9d",
      "metadata": {
        "id": "dd3fed9d"
      },
      "source": [
        "# Set-4(CBA: Practice Problem Set 2)"
      ]
    },
    {
      "cell_type": "markdown",
      "id": "ab326ba3",
      "metadata": {
        "id": "ab326ba3"
      },
      "source": [
        "3.Auditors at a small community bank randomly sample 100 withdrawal transactions made during\n",
        "the week at an ATM machine located near the bank’s main branch. Over the past 2 years, the average\n",
        "withdrawal amount has been $50 with a standard deviation of $40. Since audit investigations are typically\n",
        "expensive, the auditors decide to not initiate further investigations if the mean transaction amount of the sample\n",
        "is between $45 and $55. What is the probability that in any given week, there will be an investigation?"
      ]
    },
    {
      "cell_type": "code",
      "execution_count": null,
      "id": "abab7685",
      "metadata": {
        "id": "abab7685",
        "outputId": "ea108f43-5129-40fe-cd36-12251772890a"
      },
      "outputs": [
        {
          "name": "stdout",
          "output_type": "stream",
          "text": [
            "The probability that in any given week, there will be an investigation is 21.4 %\n"
          ]
        }
      ],
      "source": [
        "mean = 50\n",
        "std = 40\n",
        "n = 100\n",
        "d_f = 100 - 1 #degree of freedom\n",
        "#the probability that there will be an investigation,\n",
        "#if the mean transactions amount increases more than 55 USD or less than 45 USD\n",
        "# no investigation if the mean transactions amount remains between 45 to 55 USD\n",
        "\n",
        "# we will go for t-distribution as population standard deviation is unknown\n",
        "t_forty_five = (45-50)/(40/np.sqrt(100))\n",
        "\n",
        "t_fifty_five = (55-50)/(40/np.sqrt(100))\n",
        "\n",
        "forty_five = stats.t.cdf(t_forty_five, df = d_f)\n",
        "\n",
        "fifty_five = stats.t.cdf(t_fifty_five, d_f)\n",
        "\n",
        "prob = fifty_five - forty_five\n",
        "\n",
        "np.round(stats.t.interval(prob, d_f, mean,std/np.sqrt(n)),)\n",
        "\n",
        "print('The probability that in any given week, there will be an investigation is',np.round((1-prob)*100,1),'%')"
      ]
    },
    {
      "cell_type": "markdown",
      "id": "853df7e2",
      "metadata": {
        "id": "853df7e2"
      },
      "source": [
        "4.The auditors from the above example would like to maintain the probability of investigation to 5%.\n",
        "Which of the following represents the minimum number transactions that they should sample if they do not want to\n",
        "change the thresholds of 45 and 55? Assume that the sample statistics remain unchanged."
      ]
    },
    {
      "cell_type": "code",
      "execution_count": null,
      "id": "e9c790cb",
      "metadata": {
        "id": "e9c790cb",
        "outputId": "cce376ef-da65-4c69-f4eb-541ce16ce10b"
      },
      "outputs": [
        {
          "name": "stdout",
          "output_type": "stream",
          "text": [
            "The Auditors would like to maintain the probability of investigation to 5%, they should sample 248.0 transactions if they do not want to change the thresholds of 45 to 55\n",
            "248.3776 247.3776\n"
          ]
        },
        {
          "data": {
            "text/plain": [
              "array([45., 55.])"
            ]
          },
          "execution_count": 19,
          "metadata": {},
          "output_type": "execute_result"
        }
      ],
      "source": [
        "x_bar = 45\n",
        "s_std = 40\n",
        "mew = 50\n",
        "\n",
        "t = np.round(stats.t.ppf(0.025, df = 249),2)\n",
        "t\n",
        "\n",
        "# t_value = (x_bar - mew)/(sample_std/n**0.5)\n",
        "# t = 45-50 or z = 55-50 z = +/- 5\n",
        "\n",
        "# t = 5/(40/n**0.5)\n",
        "# n = (sample_standard_deviation*tscore)/(sample_mean=population_mean)\n",
        "n = ((s_std*abs(t)) / (5))**2\n",
        "\n",
        "print('The Auditors would like to maintain the probability of investigation to 5%, they should sample',np.round(n,),'transactions if they do not want to change the thresholds of 45 to 55')\n",
        "\n",
        "df= n-1\n",
        "print(n, df)\n",
        "\n",
        "np.round(stats.t.interval(0.95, df, mew, scale = s_std/np.sqrt(n)),)"
      ]
    }
  ],
  "metadata": {
    "kernelspec": {
      "display_name": "Python 3 (ipykernel)",
      "language": "python",
      "name": "python3"
    },
    "language_info": {
      "codemirror_mode": {
        "name": "ipython",
        "version": 3
      },
      "file_extension": ".py",
      "mimetype": "text/x-python",
      "name": "python",
      "nbconvert_exporter": "python",
      "pygments_lexer": "ipython3",
      "version": "3.11.5"
    },
    "colab": {
      "provenance": []
    }
  },
  "nbformat": 4,
  "nbformat_minor": 5
}